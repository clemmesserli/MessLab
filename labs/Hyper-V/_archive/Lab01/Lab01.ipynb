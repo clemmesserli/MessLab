{
 "cells": [
  {
   "cell_type": "markdown",
   "metadata": {},
   "source": [
    "# Windows 10 Client Machine\n",
    "Our first lab is a simple Hyper-V deployment of a Windows 10 machine which will not have internet access."
   ]
  },
  {
   "cell_type": "code",
   "execution_count": null,
   "metadata": {
    "dotnet_interactive": {
     "language": "pwsh"
    },
    "polyglot_notebook": {
     "kernelName": "pwsh"
    },
    "vscode": {
     "languageId": "polyglot-notebook"
    }
   },
   "outputs": [],
   "source": [
    "Import-Module AutomatedLab\n",
    "# Check to see what is available\n",
    "$OSOptions = (Get-LabAvailableOperatingSystem).OperatingSystemName\n",
    "$OSOptions"
   ]
  }
 ],
 "metadata": {
  "language_info": {
   "name": "python"
  },
  "orig_nbformat": 4
 },
 "nbformat": 4,
 "nbformat_minor": 2
}
